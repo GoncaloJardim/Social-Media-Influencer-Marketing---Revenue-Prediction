{
 "cells": [
  {
   "cell_type": "code",
   "execution_count": 4,
   "metadata": {},
   "outputs": [],
   "source": [
    "# import library\n",
    "import time\n",
    "import requests\n",
    "import pandas as pd\n",
    "from bs4 import BeautifulSoup\n",
    "from selenium import webdriver"
   ]
  },
  {
   "cell_type": "markdown",
   "metadata": {},
   "source": [
    "### trial to get the information inside the restaurant's website"
   ]
  },
  {
   "cell_type": "code",
   "execution_count": 4,
   "metadata": {},
   "outputs": [
    {
     "data": {
      "text/plain": [
       "<Response [200]>"
      ]
     },
     "execution_count": 4,
     "metadata": {},
     "output_type": "execute_result"
    }
   ],
   "source": [
    "headers = {'User-Agent': 'Mozilla/5.0 (Windows NT 10.0; Win64; x64) AppleWebKit/537.36 (KHTML, like Gecko) Chrome/95.0.4638.54 Safari/537.36'}\n",
    "url = 'https://www.zomato.com/boabao'\n",
    "response= requests.get(url, headers= headers)\n",
    "response"
   ]
  },
  {
   "cell_type": "code",
   "execution_count": null,
   "metadata": {},
   "outputs": [],
   "source": [
    "bit_html = response.content\n",
    "soup = BeautifulSoup(bit_html)\n",
    "soup"
   ]
  },
  {
   "cell_type": "code",
   "execution_count": 6,
   "metadata": {},
   "outputs": [
    {
     "data": {
      "text/plain": [
       "'Boa-Bao'"
      ]
     },
     "execution_count": 6,
     "metadata": {},
     "output_type": "execute_result"
    }
   ],
   "source": [
    "# get the name\n",
    "result = soup.find_all('h1', attrs={'class': 'sc-7kepeu-0 sc-qrIAp hFDOZp'})\n",
    "name = result[0].text\n",
    "name"
   ]
  },
  {
   "cell_type": "code",
   "execution_count": 17,
   "metadata": {},
   "outputs": [
    {
     "data": {
      "text/plain": [
       "'4.7'"
      ]
     },
     "execution_count": 17,
     "metadata": {},
     "output_type": "execute_result"
    }
   ],
   "source": [
    "# get the ratings\n",
    "result = soup.find_all('div', attrs={'class': 'sc-1q7bklc-1 cILgox'})\n",
    "ratings = result[0].text\n",
    "ratings"
   ]
  },
  {
   "cell_type": "code",
   "execution_count": 20,
   "metadata": {},
   "outputs": [
    {
     "data": {
      "text/plain": [
       "'4,793'"
      ]
     },
     "execution_count": 20,
     "metadata": {},
     "output_type": "execute_result"
    }
   ],
   "source": [
    "# get the number of ratings\n",
    "result = soup.find_all('div', attrs={'class': 'sc-1q7bklc-8 kEgyiI'})\n",
    "no_ratings = result[0].text\n",
    "no_ratings"
   ]
  },
  {
   "cell_type": "code",
   "execution_count": 21,
   "metadata": {},
   "outputs": [
    {
     "data": {
      "text/plain": [
       "'Oriental, Tailandesa, Malaia, Filipina, Vietnamita, Coreana, Japonesa, Chinesa'"
      ]
     },
     "execution_count": 21,
     "metadata": {},
     "output_type": "execute_result"
    }
   ],
   "source": [
    "# get the categories\n",
    "result = soup.find_all('div', attrs={'class': 'sc-rBLzX euEDKp'})\n",
    "categories = result[0].text\n",
    "categories"
   ]
  },
  {
   "cell_type": "code",
   "execution_count": 22,
   "metadata": {},
   "outputs": [
    {
     "data": {
      "text/plain": [
       "'Chiado, Lisboa'"
      ]
     },
     "execution_count": 22,
     "metadata": {},
     "output_type": "execute_result"
    }
   ],
   "source": [
    "# get the location\n",
    "result = soup.find_all('a', attrs={'class': 'sc-iGrrsa dEjBWV'})\n",
    "location = result[0].text\n",
    "location"
   ]
  },
  {
   "cell_type": "code",
   "execution_count": 37,
   "metadata": {},
   "outputs": [
    {
     "data": {
      "text/plain": [
       "'Largo Rafael Bordalo Pinheiro, 30, Chiado, Lisboa 1200-369'"
      ]
     },
     "execution_count": 37,
     "metadata": {},
     "output_type": "execute_result"
    }
   ],
   "source": [
    "# get the address\n",
    "result = soup.find_all('p', attrs={'class': 'sc-1hez2tp-0 clKRrC'})\n",
    "location = result[0].text\n",
    "location"
   ]
  },
  {
   "cell_type": "code",
   "execution_count": 38,
   "metadata": {},
   "outputs": [
    {
     "data": {
      "text/plain": [
       "'48\\xa0€ para duas pessoas (aprox.)'"
      ]
     },
     "execution_count": 38,
     "metadata": {},
     "output_type": "execute_result"
    }
   ],
   "source": [
    "# get the price\n",
    "result = soup.find_all('p', attrs={'class': re.compile(r'^sc-1hez2tp-0')})\n",
    "# not possible this way\n",
    "price = result[10].text\n",
    "price"
   ]
  },
  {
   "cell_type": "code",
   "execution_count": 69,
   "metadata": {},
   "outputs": [],
   "source": [
    "url = 'https://www.zomato.com/boabao'\n",
    "driver = webdriver.Chrome(r'D:\\IronHack\\IH_project3\\chromedriver')\n",
    "driver.get(url)\n",
    "# the class is not correct, it is empty\n",
    "zomato = driver.find_elements_by_class_name('sc-1mo3ldo-0 sc-bYTsla dwHMBF')\n",
    "\n",
    "for info in zomato:\n",
    "    price = info.find_element_by_xpath('.//*[@id=\"root\"]/div[2]/main/div/section[4]/section/section/article[1]/section[2]/h3[6]').text\n",
    "    print(price)\n",
    "\n",
    "# not possible to get the price inside of the restaurant's url"
   ]
  },
  {
   "cell_type": "markdown",
   "metadata": {},
   "source": [
    "### use selenium to get the restaurant url (trial)"
   ]
  },
  {
   "cell_type": "code",
   "execution_count": 45,
   "metadata": {},
   "outputs": [
    {
     "data": {
      "text/plain": [
       "324980"
      ]
     },
     "execution_count": 45,
     "metadata": {},
     "output_type": "execute_result"
    }
   ],
   "source": [
    "url = 'https://www.zomato.com/grande-lisboa/lisboa-restaurants'\n",
    "driver = webdriver.Chrome(r'D:\\IronHack\\IH_project3\\chromedriver')\n",
    "driver.get(url) # url for the infinite page\n",
    "time.sleep(3)\n",
    "html = driver.page_source\n",
    "len(html)"
   ]
  },
  {
   "cell_type": "code",
   "execution_count": 48,
   "metadata": {},
   "outputs": [
    {
     "data": {
      "text/plain": [
       "1336928"
      ]
     },
     "execution_count": 48,
     "metadata": {},
     "output_type": "execute_result"
    }
   ],
   "source": [
    "html = driver.page_source\n",
    "len(html)"
   ]
  },
  {
   "cell_type": "code",
   "execution_count": null,
   "metadata": {},
   "outputs": [],
   "source": [
    "soup = BeautifulSoup(html)"
   ]
  },
  {
   "cell_type": "code",
   "execution_count": 54,
   "metadata": {},
   "outputs": [],
   "source": [
    "price_lisbon = soup.find_all('p', attrs={'class': 'sc-1hez2tp-0 sc-eAyhxF fnTSBB'})"
   ]
  },
  {
   "cell_type": "code",
   "execution_count": 55,
   "metadata": {},
   "outputs": [],
   "source": [
    "url_lisbon =soup.find_all('a', attrs={'class': 'sc-fAJaQT kYdcXo'})"
   ]
  },
  {
   "cell_type": "code",
   "execution_count": 77,
   "metadata": {},
   "outputs": [],
   "source": [
    "name_lisbon = soup.find_all('h4', attrs={'class': 'sc-1hp8d8a-0'})"
   ]
  },
  {
   "cell_type": "code",
   "execution_count": 78,
   "metadata": {},
   "outputs": [
    {
     "name": "stdout",
     "output_type": "stream",
     "text": [
      "501\n",
      "501\n",
      "501\n"
     ]
    }
   ],
   "source": [
    "# the amount of restaurants\n",
    "print(len(price_lisbon))\n",
    "print(len(url_lisbon))\n",
    "print(len(name_lisbon))"
   ]
  },
  {
   "cell_type": "code",
   "execution_count": 57,
   "metadata": {},
   "outputs": [
    {
     "data": {
      "text/plain": [
       "'45\\xa0€ for two'"
      ]
     },
     "execution_count": 57,
     "metadata": {},
     "output_type": "execute_result"
    }
   ],
   "source": [
    "# get the price\n",
    "price_lisbon[0].text"
   ]
  },
  {
   "cell_type": "code",
   "execution_count": 66,
   "metadata": {},
   "outputs": [
    {
     "data": {
      "text/plain": [
       "'/grande-lisboa/atalho-real-príncipe-real-lisboa/info'"
      ]
     },
     "execution_count": 66,
     "metadata": {},
     "output_type": "execute_result"
    }
   ],
   "source": [
    "# get the url\n",
    "url_lisbon[0].get('href')"
   ]
  },
  {
   "cell_type": "code",
   "execution_count": null,
   "metadata": {},
   "outputs": [],
   "source": [
    "# put the url in a list \n",
    "url_list_lisbon = ['https://www.zomato.com' + url['href'] for url in url_lisbon]\n",
    "url_list_lisbon"
   ]
  },
  {
   "cell_type": "code",
   "execution_count": null,
   "metadata": {},
   "outputs": [],
   "source": [
    "# put the price in a list\n",
    "price_list_lisbon = [price.text.replace('\\xa0', '').replace('€ for two','') for price in price_lisbon]\n",
    "price_list_lisbon"
   ]
  },
  {
   "cell_type": "code",
   "execution_count": null,
   "metadata": {},
   "outputs": [],
   "source": [
    "# put the name in a list\n",
    "name_list_lisbon = [name.text for name in name_lisbon]\n",
    "name_list_lisbon"
   ]
  },
  {
   "cell_type": "code",
   "execution_count": 87,
   "metadata": {},
   "outputs": [],
   "source": [
    "# put all the data together \n",
    "# put it in a dataframe\n",
    "list_lisbon = list(zip(name_list_lisbon, url_list_lisbon, price_list_lisbon))\n",
    "df_lisbon_url = pd.DataFrame(list_lisbon, columns= ['name', 'url', 'price'])"
   ]
  },
  {
   "cell_type": "code",
   "execution_count": 88,
   "metadata": {},
   "outputs": [],
   "source": [
    "# convert the data to csv \n",
    "df_lisbon_url.to_csv('list_lisbon.csv')"
   ]
  },
  {
   "cell_type": "markdown",
   "metadata": {},
   "source": [
    "### the code to do webscrap for the zomato infinite page, for every location we need"
   ]
  },
  {
   "cell_type": "markdown",
   "metadata": {},
   "source": [
    "location list:\n",
    "chiado, \n",
    "parque das nascoes,\n",
    "cais de sodre,\n",
    "sintra,\n",
    "cascais,\n",
    "mafra,\n",
    "ericeira,\n",
    "cacilhas,\n",
    "torres vedras,\n",
    "bairro alto,\n",
    "alges,\n",
    "belem,\n",
    "marques de pombal,\n",
    "avenida de liberdade,\n",
    "saldanha,\n",
    "arroios,\n",
    "santos,\n",
    "odivelas,\n",
    "baixa"
   ]
  },
  {
   "cell_type": "code",
   "execution_count": 348,
   "metadata": {},
   "outputs": [
    {
     "data": {
      "text/plain": [
       "297495"
      ]
     },
     "execution_count": 348,
     "metadata": {},
     "output_type": "execute_result"
    }
   ],
   "source": [
    "url = 'https://www.zomato.com/grande-lisboa/baixa-restaurants'\n",
    "driver = webdriver.Chrome(r'D:\\IronHack\\IH_project3\\chromedriver')\n",
    "driver.get(url) # url for the infinite page\n",
    "time.sleep(3)\n",
    "html = driver.page_source\n",
    "len(html)"
   ]
  },
  {
   "cell_type": "code",
   "execution_count": 349,
   "metadata": {},
   "outputs": [
    {
     "data": {
      "text/plain": [
       "1405397"
      ]
     },
     "execution_count": 349,
     "metadata": {},
     "output_type": "execute_result"
    }
   ],
   "source": [
    "html = driver.page_source\n",
    "len(html)"
   ]
  },
  {
   "cell_type": "code",
   "execution_count": 350,
   "metadata": {},
   "outputs": [],
   "source": [
    "# scrap\n",
    "soup = BeautifulSoup(html)\n",
    "price_lisbon = soup.find_all('p', attrs={'class': 'sc-1hez2tp-0 sc-eAyhxF fnTSBB'})\n",
    "url_lisbon =soup.find_all('a', attrs={'class': 'sc-fAJaQT kYdcXo'})\n",
    "name_lisbon = soup.find_all('h4', attrs={'class': 'sc-1hp8d8a-0 sc-cLmFfZ kTlBhS'})"
   ]
  },
  {
   "cell_type": "code",
   "execution_count": 351,
   "metadata": {},
   "outputs": [
    {
     "name": "stdout",
     "output_type": "stream",
     "text": [
      "492\n",
      "492\n",
      "492\n"
     ]
    }
   ],
   "source": [
    "# making sure the data match and is the same length \n",
    "print(len(price_lisbon))\n",
    "print(len(url_lisbon))\n",
    "print(len(name_lisbon))"
   ]
  },
  {
   "cell_type": "code",
   "execution_count": 352,
   "metadata": {},
   "outputs": [],
   "source": [
    "# put it in the lists\n",
    "url_list_lisbon = ['https://www.zomato.com' + url['href'] for url in url_lisbon]\n",
    "price_list_lisbon = [price.text.replace('\\xa0', '').replace('€ for two','') for price in price_lisbon]\n",
    "name_list_lisbon = [name.text for name in name_lisbon]\n"
   ]
  },
  {
   "cell_type": "code",
   "execution_count": 353,
   "metadata": {},
   "outputs": [],
   "source": [
    "# merge the list, put in in dataframe\n",
    "list_lisbon_location = list(zip(name_list_lisbon, url_list_lisbon, price_list_lisbon))\n",
    "df_lisbon_url_location = pd.DataFrame(list_lisbon_location, columns= ['name', 'url', 'price'])"
   ]
  },
  {
   "cell_type": "code",
   "execution_count": 354,
   "metadata": {},
   "outputs": [
    {
     "data": {
      "text/html": [
       "<div>\n",
       "<style scoped>\n",
       "    .dataframe tbody tr th:only-of-type {\n",
       "        vertical-align: middle;\n",
       "    }\n",
       "\n",
       "    .dataframe tbody tr th {\n",
       "        vertical-align: top;\n",
       "    }\n",
       "\n",
       "    .dataframe thead th {\n",
       "        text-align: right;\n",
       "    }\n",
       "</style>\n",
       "<table border=\"1\" class=\"dataframe\">\n",
       "  <thead>\n",
       "    <tr style=\"text-align: right;\">\n",
       "      <th></th>\n",
       "      <th>name</th>\n",
       "      <th>url</th>\n",
       "      <th>price</th>\n",
       "    </tr>\n",
       "  </thead>\n",
       "  <tbody>\n",
       "    <tr>\n",
       "      <th>0</th>\n",
       "      <td>Trobadores</td>\n",
       "      <td>https://www.zomato.com/grande-lisboa/trobadore...</td>\n",
       "      <td>30</td>\n",
       "    </tr>\n",
       "    <tr>\n",
       "      <th>1</th>\n",
       "      <td>Caxemira</td>\n",
       "      <td>https://www.zomato.com/grande-lisboa/caxemira-...</td>\n",
       "      <td>30</td>\n",
       "    </tr>\n",
       "    <tr>\n",
       "      <th>2</th>\n",
       "      <td>Cotidiano Lisboa</td>\n",
       "      <td>https://www.zomato.com/grande-lisboa/cotidiano...</td>\n",
       "      <td>20</td>\n",
       "    </tr>\n",
       "    <tr>\n",
       "      <th>3</th>\n",
       "      <td>Café do Rio - Hamburgueria Gourmet</td>\n",
       "      <td>https://www.zomato.com/grande-lisboa/café-do-r...</td>\n",
       "      <td>40</td>\n",
       "    </tr>\n",
       "    <tr>\n",
       "      <th>4</th>\n",
       "      <td>Cervejaria Pinóquio</td>\n",
       "      <td>https://www.zomato.com/grande-lisboa/cervejari...</td>\n",
       "      <td>50</td>\n",
       "    </tr>\n",
       "    <tr>\n",
       "      <th>...</th>\n",
       "      <td>...</td>\n",
       "      <td>...</td>\n",
       "      <td>...</td>\n",
       "    </tr>\n",
       "    <tr>\n",
       "      <th>487</th>\n",
       "      <td>Boteco da Fá</td>\n",
       "      <td>https://www.zomato.com/grande-lisboa/boteco-da...</td>\n",
       "      <td>30</td>\n",
       "    </tr>\n",
       "    <tr>\n",
       "      <th>488</th>\n",
       "      <td>Trigo Latino</td>\n",
       "      <td>https://www.zomato.com/grande-lisboa/trigo-lat...</td>\n",
       "      <td>55</td>\n",
       "    </tr>\n",
       "    <tr>\n",
       "      <th>489</th>\n",
       "      <td>Café Belga</td>\n",
       "      <td>https://www.zomato.com/grande-lisboa/café-belg...</td>\n",
       "      <td>25</td>\n",
       "    </tr>\n",
       "    <tr>\n",
       "      <th>490</th>\n",
       "      <td>Quiosque Portas do Sol</td>\n",
       "      <td>https://www.zomato.com/grande-lisboa/quiosque-...</td>\n",
       "      <td>10</td>\n",
       "    </tr>\n",
       "    <tr>\n",
       "      <th>491</th>\n",
       "      <td>Taberna - Bairro do Avillez</td>\n",
       "      <td>https://www.zomato.com/grande-lisboa/taberna-b...</td>\n",
       "      <td>50</td>\n",
       "    </tr>\n",
       "  </tbody>\n",
       "</table>\n",
       "<p>492 rows × 3 columns</p>\n",
       "</div>"
      ],
      "text/plain": [
       "                                   name  \\\n",
       "0                            Trobadores   \n",
       "1                              Caxemira   \n",
       "2                      Cotidiano Lisboa   \n",
       "3    Café do Rio - Hamburgueria Gourmet   \n",
       "4                   Cervejaria Pinóquio   \n",
       "..                                  ...   \n",
       "487                        Boteco da Fá   \n",
       "488                        Trigo Latino   \n",
       "489                          Café Belga   \n",
       "490              Quiosque Portas do Sol   \n",
       "491         Taberna - Bairro do Avillez   \n",
       "\n",
       "                                                   url price  \n",
       "0    https://www.zomato.com/grande-lisboa/trobadore...    30  \n",
       "1    https://www.zomato.com/grande-lisboa/caxemira-...    30  \n",
       "2    https://www.zomato.com/grande-lisboa/cotidiano...    20  \n",
       "3    https://www.zomato.com/grande-lisboa/café-do-r...    40  \n",
       "4    https://www.zomato.com/grande-lisboa/cervejari...    50  \n",
       "..                                                 ...   ...  \n",
       "487  https://www.zomato.com/grande-lisboa/boteco-da...    30  \n",
       "488  https://www.zomato.com/grande-lisboa/trigo-lat...    55  \n",
       "489  https://www.zomato.com/grande-lisboa/café-belg...    25  \n",
       "490  https://www.zomato.com/grande-lisboa/quiosque-...    10  \n",
       "491  https://www.zomato.com/grande-lisboa/taberna-b...    50  \n",
       "\n",
       "[492 rows x 3 columns]"
      ]
     },
     "execution_count": 354,
     "metadata": {},
     "output_type": "execute_result"
    }
   ],
   "source": [
    "# the data we get in one location\n",
    "df_lisbon_url_location"
   ]
  },
  {
   "cell_type": "code",
   "execution_count": 357,
   "metadata": {},
   "outputs": [],
   "source": [
    "# put the data from every location in one dataframe\n",
    "df_lisbon_url = df_lisbon_url.append(df_lisbon_url_location, ignore_index=True)"
   ]
  },
  {
   "cell_type": "code",
   "execution_count": 358,
   "metadata": {},
   "outputs": [
    {
     "data": {
      "text/html": [
       "<div>\n",
       "<style scoped>\n",
       "    .dataframe tbody tr th:only-of-type {\n",
       "        vertical-align: middle;\n",
       "    }\n",
       "\n",
       "    .dataframe tbody tr th {\n",
       "        vertical-align: top;\n",
       "    }\n",
       "\n",
       "    .dataframe thead th {\n",
       "        text-align: right;\n",
       "    }\n",
       "</style>\n",
       "<table border=\"1\" class=\"dataframe\">\n",
       "  <thead>\n",
       "    <tr style=\"text-align: right;\">\n",
       "      <th></th>\n",
       "      <th>name</th>\n",
       "      <th>url</th>\n",
       "      <th>price</th>\n",
       "    </tr>\n",
       "  </thead>\n",
       "  <tbody>\n",
       "    <tr>\n",
       "      <th>0</th>\n",
       "      <td>Carvoeiro de Palma</td>\n",
       "      <td>https://www.zomato.com/grande-lisboa/carvoeiro...</td>\n",
       "      <td>40</td>\n",
       "    </tr>\n",
       "    <tr>\n",
       "      <th>1</th>\n",
       "      <td>Cantina Baldracca</td>\n",
       "      <td>https://www.zomato.com/grande-lisboa/cantina-b...</td>\n",
       "      <td>30</td>\n",
       "    </tr>\n",
       "    <tr>\n",
       "      <th>2</th>\n",
       "      <td>A Padaria Portuguesa - Camões</td>\n",
       "      <td>https://www.zomato.com/apadariaportuguesacamoe...</td>\n",
       "      <td>8</td>\n",
       "    </tr>\n",
       "    <tr>\n",
       "      <th>3</th>\n",
       "      <td>Eva Bar &amp; Restaurante</td>\n",
       "      <td>https://www.zomato.com/grande-lisboa/eva-bar-r...</td>\n",
       "      <td>35</td>\n",
       "    </tr>\n",
       "    <tr>\n",
       "      <th>4</th>\n",
       "      <td>Portugália Balcão Chiado</td>\n",
       "      <td>https://www.zomato.com/grande-lisboa/portugáli...</td>\n",
       "      <td>15</td>\n",
       "    </tr>\n",
       "    <tr>\n",
       "      <th>...</th>\n",
       "      <td>...</td>\n",
       "      <td>...</td>\n",
       "      <td>...</td>\n",
       "    </tr>\n",
       "    <tr>\n",
       "      <th>5966</th>\n",
       "      <td>Boteco da Fá</td>\n",
       "      <td>https://www.zomato.com/grande-lisboa/boteco-da...</td>\n",
       "      <td>30</td>\n",
       "    </tr>\n",
       "    <tr>\n",
       "      <th>5967</th>\n",
       "      <td>Trigo Latino</td>\n",
       "      <td>https://www.zomato.com/grande-lisboa/trigo-lat...</td>\n",
       "      <td>55</td>\n",
       "    </tr>\n",
       "    <tr>\n",
       "      <th>5968</th>\n",
       "      <td>Café Belga</td>\n",
       "      <td>https://www.zomato.com/grande-lisboa/café-belg...</td>\n",
       "      <td>25</td>\n",
       "    </tr>\n",
       "    <tr>\n",
       "      <th>5969</th>\n",
       "      <td>Quiosque Portas do Sol</td>\n",
       "      <td>https://www.zomato.com/grande-lisboa/quiosque-...</td>\n",
       "      <td>10</td>\n",
       "    </tr>\n",
       "    <tr>\n",
       "      <th>5970</th>\n",
       "      <td>Taberna - Bairro do Avillez</td>\n",
       "      <td>https://www.zomato.com/grande-lisboa/taberna-b...</td>\n",
       "      <td>50</td>\n",
       "    </tr>\n",
       "  </tbody>\n",
       "</table>\n",
       "<p>5971 rows × 3 columns</p>\n",
       "</div>"
      ],
      "text/plain": [
       "                               name  \\\n",
       "0                Carvoeiro de Palma   \n",
       "1                 Cantina Baldracca   \n",
       "2     A Padaria Portuguesa - Camões   \n",
       "3             Eva Bar & Restaurante   \n",
       "4          Portugália Balcão Chiado   \n",
       "...                             ...   \n",
       "5966                   Boteco da Fá   \n",
       "5967                   Trigo Latino   \n",
       "5968                     Café Belga   \n",
       "5969         Quiosque Portas do Sol   \n",
       "5970    Taberna - Bairro do Avillez   \n",
       "\n",
       "                                                    url price  \n",
       "0     https://www.zomato.com/grande-lisboa/carvoeiro...    40  \n",
       "1     https://www.zomato.com/grande-lisboa/cantina-b...    30  \n",
       "2     https://www.zomato.com/apadariaportuguesacamoe...     8  \n",
       "3     https://www.zomato.com/grande-lisboa/eva-bar-r...    35  \n",
       "4     https://www.zomato.com/grande-lisboa/portugáli...    15  \n",
       "...                                                 ...   ...  \n",
       "5966  https://www.zomato.com/grande-lisboa/boteco-da...    30  \n",
       "5967  https://www.zomato.com/grande-lisboa/trigo-lat...    55  \n",
       "5968  https://www.zomato.com/grande-lisboa/café-belg...    25  \n",
       "5969  https://www.zomato.com/grande-lisboa/quiosque-...    10  \n",
       "5970  https://www.zomato.com/grande-lisboa/taberna-b...    50  \n",
       "\n",
       "[5971 rows x 3 columns]"
      ]
     },
     "execution_count": 358,
     "metadata": {},
     "output_type": "execute_result"
    }
   ],
   "source": [
    "df_lisbon_url"
   ]
  },
  {
   "cell_type": "code",
   "execution_count": 359,
   "metadata": {},
   "outputs": [
    {
     "data": {
      "text/html": [
       "<div>\n",
       "<style scoped>\n",
       "    .dataframe tbody tr th:only-of-type {\n",
       "        vertical-align: middle;\n",
       "    }\n",
       "\n",
       "    .dataframe tbody tr th {\n",
       "        vertical-align: top;\n",
       "    }\n",
       "\n",
       "    .dataframe thead th {\n",
       "        text-align: right;\n",
       "    }\n",
       "</style>\n",
       "<table border=\"1\" class=\"dataframe\">\n",
       "  <thead>\n",
       "    <tr style=\"text-align: right;\">\n",
       "      <th></th>\n",
       "      <th>name</th>\n",
       "      <th>url</th>\n",
       "      <th>price</th>\n",
       "    </tr>\n",
       "  </thead>\n",
       "  <tbody>\n",
       "    <tr>\n",
       "      <th>0</th>\n",
       "      <td>Carvoeiro de Palma</td>\n",
       "      <td>https://www.zomato.com/grande-lisboa/carvoeiro...</td>\n",
       "      <td>40</td>\n",
       "    </tr>\n",
       "    <tr>\n",
       "      <th>1</th>\n",
       "      <td>Cantina Baldracca</td>\n",
       "      <td>https://www.zomato.com/grande-lisboa/cantina-b...</td>\n",
       "      <td>30</td>\n",
       "    </tr>\n",
       "    <tr>\n",
       "      <th>2</th>\n",
       "      <td>A Padaria Portuguesa - Camões</td>\n",
       "      <td>https://www.zomato.com/apadariaportuguesacamoe...</td>\n",
       "      <td>8</td>\n",
       "    </tr>\n",
       "    <tr>\n",
       "      <th>3</th>\n",
       "      <td>Eva Bar &amp; Restaurante</td>\n",
       "      <td>https://www.zomato.com/grande-lisboa/eva-bar-r...</td>\n",
       "      <td>35</td>\n",
       "    </tr>\n",
       "    <tr>\n",
       "      <th>4</th>\n",
       "      <td>Portugália Balcão Chiado</td>\n",
       "      <td>https://www.zomato.com/grande-lisboa/portugáli...</td>\n",
       "      <td>15</td>\n",
       "    </tr>\n",
       "    <tr>\n",
       "      <th>...</th>\n",
       "      <td>...</td>\n",
       "      <td>...</td>\n",
       "      <td>...</td>\n",
       "    </tr>\n",
       "    <tr>\n",
       "      <th>5472</th>\n",
       "      <td>Casa de Linhares</td>\n",
       "      <td>https://www.zomato.com/grande-lisboa/casa-de-l...</td>\n",
       "      <td>80</td>\n",
       "    </tr>\n",
       "    <tr>\n",
       "      <th>5474</th>\n",
       "      <td>Boteco da Fá</td>\n",
       "      <td>https://www.zomato.com/grande-lisboa/boteco-da...</td>\n",
       "      <td>30</td>\n",
       "    </tr>\n",
       "    <tr>\n",
       "      <th>5475</th>\n",
       "      <td>Trigo Latino</td>\n",
       "      <td>https://www.zomato.com/grande-lisboa/trigo-lat...</td>\n",
       "      <td>55</td>\n",
       "    </tr>\n",
       "    <tr>\n",
       "      <th>5476</th>\n",
       "      <td>Café Belga</td>\n",
       "      <td>https://www.zomato.com/grande-lisboa/café-belg...</td>\n",
       "      <td>25</td>\n",
       "    </tr>\n",
       "    <tr>\n",
       "      <th>5477</th>\n",
       "      <td>Quiosque Portas do Sol</td>\n",
       "      <td>https://www.zomato.com/grande-lisboa/quiosque-...</td>\n",
       "      <td>10</td>\n",
       "    </tr>\n",
       "  </tbody>\n",
       "</table>\n",
       "<p>5161 rows × 3 columns</p>\n",
       "</div>"
      ],
      "text/plain": [
       "                               name  \\\n",
       "0                Carvoeiro de Palma   \n",
       "1                 Cantina Baldracca   \n",
       "2     A Padaria Portuguesa - Camões   \n",
       "3             Eva Bar & Restaurante   \n",
       "4          Portugália Balcão Chiado   \n",
       "...                             ...   \n",
       "5472               Casa de Linhares   \n",
       "5474                   Boteco da Fá   \n",
       "5475                   Trigo Latino   \n",
       "5476                     Café Belga   \n",
       "5477         Quiosque Portas do Sol   \n",
       "\n",
       "                                                    url price  \n",
       "0     https://www.zomato.com/grande-lisboa/carvoeiro...    40  \n",
       "1     https://www.zomato.com/grande-lisboa/cantina-b...    30  \n",
       "2     https://www.zomato.com/apadariaportuguesacamoe...     8  \n",
       "3     https://www.zomato.com/grande-lisboa/eva-bar-r...    35  \n",
       "4     https://www.zomato.com/grande-lisboa/portugáli...    15  \n",
       "...                                                 ...   ...  \n",
       "5472  https://www.zomato.com/grande-lisboa/casa-de-l...    80  \n",
       "5474  https://www.zomato.com/grande-lisboa/boteco-da...    30  \n",
       "5475  https://www.zomato.com/grande-lisboa/trigo-lat...    55  \n",
       "5476  https://www.zomato.com/grande-lisboa/café-belg...    25  \n",
       "5477  https://www.zomato.com/grande-lisboa/quiosque-...    10  \n",
       "\n",
       "[5161 rows x 3 columns]"
      ]
     },
     "execution_count": 359,
     "metadata": {},
     "output_type": "execute_result"
    }
   ],
   "source": [
    "# drop duplicated restaurant\n",
    "df_lisbon_url.drop_duplicates()"
   ]
  },
  {
   "cell_type": "code",
   "execution_count": 360,
   "metadata": {},
   "outputs": [
    {
     "data": {
      "text/html": [
       "<div>\n",
       "<style scoped>\n",
       "    .dataframe tbody tr th:only-of-type {\n",
       "        vertical-align: middle;\n",
       "    }\n",
       "\n",
       "    .dataframe tbody tr th {\n",
       "        vertical-align: top;\n",
       "    }\n",
       "\n",
       "    .dataframe thead th {\n",
       "        text-align: right;\n",
       "    }\n",
       "</style>\n",
       "<table border=\"1\" class=\"dataframe\">\n",
       "  <thead>\n",
       "    <tr style=\"text-align: right;\">\n",
       "      <th></th>\n",
       "      <th>name</th>\n",
       "      <th>url</th>\n",
       "      <th>price</th>\n",
       "    </tr>\n",
       "  </thead>\n",
       "  <tbody>\n",
       "    <tr>\n",
       "      <th>0</th>\n",
       "      <td>Carvoeiro de Palma</td>\n",
       "      <td>https://www.zomato.com/grande-lisboa/carvoeiro...</td>\n",
       "      <td>40</td>\n",
       "    </tr>\n",
       "    <tr>\n",
       "      <th>2</th>\n",
       "      <td>A Padaria Portuguesa - Camões</td>\n",
       "      <td>https://www.zomato.com/apadariaportuguesacamoe...</td>\n",
       "      <td>8</td>\n",
       "    </tr>\n",
       "    <tr>\n",
       "      <th>3</th>\n",
       "      <td>Eva Bar &amp; Restaurante</td>\n",
       "      <td>https://www.zomato.com/grande-lisboa/eva-bar-r...</td>\n",
       "      <td>35</td>\n",
       "    </tr>\n",
       "    <tr>\n",
       "      <th>4</th>\n",
       "      <td>Portugália Balcão Chiado</td>\n",
       "      <td>https://www.zomato.com/grande-lisboa/portugáli...</td>\n",
       "      <td>15</td>\n",
       "    </tr>\n",
       "    <tr>\n",
       "      <th>5</th>\n",
       "      <td>Escondidinho da Curva</td>\n",
       "      <td>https://www.zomato.com/grande-lisboa/escondidi...</td>\n",
       "      <td>20</td>\n",
       "    </tr>\n",
       "    <tr>\n",
       "      <th>...</th>\n",
       "      <td>...</td>\n",
       "      <td>...</td>\n",
       "      <td>...</td>\n",
       "    </tr>\n",
       "    <tr>\n",
       "      <th>5966</th>\n",
       "      <td>Boteco da Fá</td>\n",
       "      <td>https://www.zomato.com/grande-lisboa/boteco-da...</td>\n",
       "      <td>30</td>\n",
       "    </tr>\n",
       "    <tr>\n",
       "      <th>5967</th>\n",
       "      <td>Trigo Latino</td>\n",
       "      <td>https://www.zomato.com/grande-lisboa/trigo-lat...</td>\n",
       "      <td>55</td>\n",
       "    </tr>\n",
       "    <tr>\n",
       "      <th>5968</th>\n",
       "      <td>Café Belga</td>\n",
       "      <td>https://www.zomato.com/grande-lisboa/café-belg...</td>\n",
       "      <td>25</td>\n",
       "    </tr>\n",
       "    <tr>\n",
       "      <th>5969</th>\n",
       "      <td>Quiosque Portas do Sol</td>\n",
       "      <td>https://www.zomato.com/grande-lisboa/quiosque-...</td>\n",
       "      <td>10</td>\n",
       "    </tr>\n",
       "    <tr>\n",
       "      <th>5970</th>\n",
       "      <td>Taberna - Bairro do Avillez</td>\n",
       "      <td>https://www.zomato.com/grande-lisboa/taberna-b...</td>\n",
       "      <td>50</td>\n",
       "    </tr>\n",
       "  </tbody>\n",
       "</table>\n",
       "<p>5131 rows × 3 columns</p>\n",
       "</div>"
      ],
      "text/plain": [
       "                               name  \\\n",
       "0                Carvoeiro de Palma   \n",
       "2     A Padaria Portuguesa - Camões   \n",
       "3             Eva Bar & Restaurante   \n",
       "4          Portugália Balcão Chiado   \n",
       "5             Escondidinho da Curva   \n",
       "...                             ...   \n",
       "5966                   Boteco da Fá   \n",
       "5967                   Trigo Latino   \n",
       "5968                     Café Belga   \n",
       "5969         Quiosque Portas do Sol   \n",
       "5970    Taberna - Bairro do Avillez   \n",
       "\n",
       "                                                    url price  \n",
       "0     https://www.zomato.com/grande-lisboa/carvoeiro...    40  \n",
       "2     https://www.zomato.com/apadariaportuguesacamoe...     8  \n",
       "3     https://www.zomato.com/grande-lisboa/eva-bar-r...    35  \n",
       "4     https://www.zomato.com/grande-lisboa/portugáli...    15  \n",
       "5     https://www.zomato.com/grande-lisboa/escondidi...    20  \n",
       "...                                                 ...   ...  \n",
       "5966  https://www.zomato.com/grande-lisboa/boteco-da...    30  \n",
       "5967  https://www.zomato.com/grande-lisboa/trigo-lat...    55  \n",
       "5968  https://www.zomato.com/grande-lisboa/café-belg...    25  \n",
       "5969  https://www.zomato.com/grande-lisboa/quiosque-...    10  \n",
       "5970  https://www.zomato.com/grande-lisboa/taberna-b...    50  \n",
       "\n",
       "[5131 rows x 3 columns]"
      ]
     },
     "execution_count": 360,
     "metadata": {},
     "output_type": "execute_result"
    }
   ],
   "source": [
    "# drop duplicated restaurant by name to make sure no duplicates\n",
    "df_lisbon_url = df_lisbon_url.drop_duplicates(subset='name', keep=\"last\")\n",
    "df_lisbon_url"
   ]
  },
  {
   "cell_type": "code",
   "execution_count": 361,
   "metadata": {},
   "outputs": [],
   "source": [
    "# convert the final data to csv\n",
    "df_lisbon_url.to_csv('lisbon_list_final.csv')"
   ]
  },
  {
   "cell_type": "markdown",
   "metadata": {},
   "source": [
    "1802 (sintra) 2261(cascais) 2558(mafra) 2589(ericeira) 2820(cacilhas) 3081(torres vedras) 3221 (bairro alto) 3623 (alges) 3785 (belem) 4061 (marques) 4194 (avenida de lib) 4346 (saldanha) 4482 (arroios) 4603 (santos) 4987 (odivelas) 5131 (baixa)"
   ]
  }
 ],
 "metadata": {
  "interpreter": {
   "hash": "bb2397f6023f7180ab7c4bc0a2e7b37c07346fc62ee2578ea436a4f88c094a88"
  },
  "kernelspec": {
   "display_name": "Python 3",
   "language": "python",
   "name": "python3"
  },
  "language_info": {
   "codemirror_mode": {
    "name": "ipython",
    "version": 3
   },
   "file_extension": ".py",
   "mimetype": "text/x-python",
   "name": "python",
   "nbconvert_exporter": "python",
   "pygments_lexer": "ipython3",
   "version": "3.8.8"
  }
 },
 "nbformat": 4,
 "nbformat_minor": 4
}
