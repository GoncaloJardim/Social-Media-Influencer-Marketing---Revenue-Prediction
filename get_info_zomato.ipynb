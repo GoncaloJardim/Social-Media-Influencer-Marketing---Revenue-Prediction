{
 "cells": [
  {
   "cell_type": "code",
   "execution_count": 18,
   "metadata": {},
   "outputs": [],
   "source": [
    "# import libraries\n",
    "import pandas as pd\n",
    "from bs4 import BeautifulSoup\n",
    "import requests\n",
    "import time\n",
    "import random"
   ]
  },
  {
   "cell_type": "code",
   "execution_count": 27,
   "metadata": {},
   "outputs": [
    {
     "data": {
      "text/plain": [
       "5131"
      ]
     },
     "execution_count": 27,
     "metadata": {},
     "output_type": "execute_result"
    }
   ],
   "source": [
    "# read the data of the restaurant url that we webscrap before\n",
    "# 5131 url\n",
    "data = pd.read_csv('lisbon_list_final.csv')\n",
    "len(data['url'])"
   ]
  },
  {
   "cell_type": "code",
   "execution_count": null,
   "metadata": {},
   "outputs": [],
   "source": [
    "# put it in a list\n",
    "url_list = list(data['url'])"
   ]
  },
  {
   "cell_type": "code",
   "execution_count": 25,
   "metadata": {},
   "outputs": [
    {
     "data": {
      "text/plain": [
       "<Response [200]>"
      ]
     },
     "execution_count": 25,
     "metadata": {},
     "output_type": "execute_result"
    }
   ],
   "source": [
    "# ask for response from the website\n",
    "headers = {'User-Agent': 'Mozilla/5.0 (Windows NT 10.0; Win64; x64) AppleWebKit/537.36 (KHTML, like Gecko) Chrome/95.0.4638.69 Safari/537.36'}\n",
    "url = url_list[1]\n",
    "response= requests.get(url, headers= headers)\n",
    "response"
   ]
  },
  {
   "cell_type": "code",
   "execution_count": 41,
   "metadata": {},
   "outputs": [],
   "source": [
    "# initiate the variable to store the information\n",
    "headers = {'User-Agent': 'Mozilla/5.0 (Windows NT 10.0; Win64; x64) AppleWebKit/537.36 (KHTML, like Gecko) Chrome/95.0.4638.69 Safari/537.36'}\n",
    "data = []\n",
    "not_pass = []\n",
    "data_passed = []"
   ]
  },
  {
   "cell_type": "code",
   "execution_count": 43,
   "metadata": {},
   "outputs": [],
   "source": [
    "# webscrapping\n",
    "for link in url_list:\n",
    "    # to give breaks between webscraping data\n",
    "    time.sleep(random.random()+3)\n",
    "    try:\n",
    "        response = requests.get(link, headers= headers)\n",
    "        soup = BeautifulSoup(response.content)\n",
    "\n",
    "        # get the name\n",
    "        result = soup.find_all('h1', attrs={'class': 'sc-7kepeu-0 sc-qrIAp hFDOZp'})\n",
    "        name = result[0].text\n",
    "\n",
    "        # get the ratings\n",
    "        result = soup.find_all('div', attrs={'class': 'sc-1q7bklc-1 cILgox'})\n",
    "        ratings = result[0].text\n",
    "\n",
    "        # get the number of ratings\n",
    "        result = soup.find_all('div', attrs={'class': 'sc-1q7bklc-8 kEgyiI'})\n",
    "        no_ratings = result[0].text\n",
    "        no_ratings\n",
    "\n",
    "        # get the categories\n",
    "        result = soup.find_all('div', attrs={'class': 'sc-rBLzX euEDKp'})\n",
    "        categories = result[0].text\n",
    "        categories\n",
    "\n",
    "        # get the location\n",
    "        result = soup.find_all('a', attrs={'class': 'sc-iGrrsa dEjBWV'})\n",
    "        location = result[0].text\n",
    "        location\n",
    "\n",
    "        # get the address\n",
    "        result = soup.find_all('p', attrs={'class': 'sc-1hez2tp-0 clKRrC'})\n",
    "        address = result[0].text\n",
    "        address\n",
    "\n",
    "        # dictionary for the information of the product\n",
    "        info = {'Name': name, 'Ratings': ratings, 'No. of reviews': no_ratings, 'Categories': categories, 'Location': location, 'Address': address}\n",
    "        data.append(info)\n",
    "        data_passed.append(link)\n",
    "    except:\n",
    "        not_pass.append(link)\n",
    "        pass"
   ]
  },
  {
   "cell_type": "code",
   "execution_count": 52,
   "metadata": {},
   "outputs": [
    {
     "data": {
      "text/plain": [
       "5094"
      ]
     },
     "execution_count": 52,
     "metadata": {},
     "output_type": "execute_result"
    }
   ],
   "source": [
    "# the information that we manage to get\n",
    "len(data)"
   ]
  },
  {
   "cell_type": "code",
   "execution_count": 45,
   "metadata": {},
   "outputs": [
    {
     "data": {
      "text/plain": [
       "37"
      ]
     },
     "execution_count": 45,
     "metadata": {},
     "output_type": "execute_result"
    }
   ],
   "source": [
    "# the information that we did not manage to get\n",
    "len(not_pass)"
   ]
  },
  {
   "cell_type": "code",
   "execution_count": 50,
   "metadata": {},
   "outputs": [],
   "source": [
    "# put the information in a dataframe\n",
    "data = pd.DataFrame(data)"
   ]
  },
  {
   "cell_type": "code",
   "execution_count": 51,
   "metadata": {},
   "outputs": [],
   "source": [
    "# import the dataframe to csv\n",
    "import pandas as pd\n",
    "data.to_csv('zomato_data.csv')"
   ]
  },
  {
   "cell_type": "code",
   "execution_count": 53,
   "metadata": {},
   "outputs": [
    {
     "data": {
      "text/html": [
       "<div>\n",
       "<style scoped>\n",
       "    .dataframe tbody tr th:only-of-type {\n",
       "        vertical-align: middle;\n",
       "    }\n",
       "\n",
       "    .dataframe tbody tr th {\n",
       "        vertical-align: top;\n",
       "    }\n",
       "\n",
       "    .dataframe thead th {\n",
       "        text-align: right;\n",
       "    }\n",
       "</style>\n",
       "<table border=\"1\" class=\"dataframe\">\n",
       "  <thead>\n",
       "    <tr style=\"text-align: right;\">\n",
       "      <th></th>\n",
       "      <th>Name</th>\n",
       "      <th>Ratings</th>\n",
       "      <th>No. of reviews</th>\n",
       "      <th>Categories</th>\n",
       "      <th>Location</th>\n",
       "      <th>Address</th>\n",
       "    </tr>\n",
       "  </thead>\n",
       "  <tbody>\n",
       "    <tr>\n",
       "      <th>0</th>\n",
       "      <td>Carvoeiro de Palma</td>\n",
       "      <td>4.2</td>\n",
       "      <td>867</td>\n",
       "      <td>Portuguesa</td>\n",
       "      <td>São Domingos de Benfica, Lisboa</td>\n",
       "      <td>Rua Antonino e Sá, 9, São Domingos de Benfica,...</td>\n",
       "    </tr>\n",
       "    <tr>\n",
       "      <th>1</th>\n",
       "      <td>A Padaria Portuguesa - Camões</td>\n",
       "      <td>3.3</td>\n",
       "      <td>289</td>\n",
       "      <td>Pastelaria, Padaria, Snacks</td>\n",
       "      <td>Chiado, Lisboa</td>\n",
       "      <td>Praça Luís de Camões, 44, Chiado, Lisboa</td>\n",
       "    </tr>\n",
       "    <tr>\n",
       "      <th>2</th>\n",
       "      <td>Eva Bar &amp; Restaurante</td>\n",
       "      <td>3.8</td>\n",
       "      <td>45</td>\n",
       "      <td>Contemporânea, Internacional, Bebidas</td>\n",
       "      <td>Chiado, Lisboa</td>\n",
       "      <td>Rua Garrett, 47, Chiado, Lisboa 1200-203</td>\n",
       "    </tr>\n",
       "    <tr>\n",
       "      <th>3</th>\n",
       "      <td>Portugália Balcão Chiado</td>\n",
       "      <td>3.7</td>\n",
       "      <td>81</td>\n",
       "      <td>Portuguesa</td>\n",
       "      <td>Armazéns do Chiado, Chiado, Lisboa</td>\n",
       "      <td>Armazéns do Chiado, Rua do Carmo, 2, Piso 6, C...</td>\n",
       "    </tr>\n",
       "    <tr>\n",
       "      <th>4</th>\n",
       "      <td>Escondidinho da Curva</td>\n",
       "      <td>3.2</td>\n",
       "      <td>66</td>\n",
       "      <td>Portuguesa</td>\n",
       "      <td>Chiado, Lisboa</td>\n",
       "      <td>Rua do Ferragial, 22/22A, Chiado, Lisboa</td>\n",
       "    </tr>\n",
       "    <tr>\n",
       "      <th>...</th>\n",
       "      <td>...</td>\n",
       "      <td>...</td>\n",
       "      <td>...</td>\n",
       "      <td>...</td>\n",
       "      <td>...</td>\n",
       "      <td>...</td>\n",
       "    </tr>\n",
       "    <tr>\n",
       "      <th>5089</th>\n",
       "      <td>Boteco da Fá</td>\n",
       "      <td>3.9</td>\n",
       "      <td>38</td>\n",
       "      <td>Snacks, Petiscos</td>\n",
       "      <td>Alfama, Lisboa</td>\n",
       "      <td>Rua do Vigário, 70E, Alfama, Lisboa</td>\n",
       "    </tr>\n",
       "    <tr>\n",
       "      <th>5090</th>\n",
       "      <td>Trigo Latino</td>\n",
       "      <td>3.8</td>\n",
       "      <td>61</td>\n",
       "      <td>Fusão, Contemporânea</td>\n",
       "      <td>Alfama, Lisboa</td>\n",
       "      <td>Largo do Terreiro do Trigo, 1, Alfama, Lisboa</td>\n",
       "    </tr>\n",
       "    <tr>\n",
       "      <th>5091</th>\n",
       "      <td>Café Belga</td>\n",
       "      <td>3.4</td>\n",
       "      <td>28</td>\n",
       "      <td>Belga, Snacks, Bebidas</td>\n",
       "      <td>Mouraria, Lisboa</td>\n",
       "      <td>Largo das Olarias, 37, Mouraria, Lisboa</td>\n",
       "    </tr>\n",
       "    <tr>\n",
       "      <th>5092</th>\n",
       "      <td>Quiosque Portas do Sol</td>\n",
       "      <td>3.1</td>\n",
       "      <td>52</td>\n",
       "      <td>Pastelaria, Snacks, Snack bar</td>\n",
       "      <td>Alfama, Lisboa</td>\n",
       "      <td>Largo das Portas do Sol, Alfama, Lisboa</td>\n",
       "    </tr>\n",
       "    <tr>\n",
       "      <th>5093</th>\n",
       "      <td>Taberna - Bairro do Avillez</td>\n",
       "      <td>3.8</td>\n",
       "      <td>14</td>\n",
       "      <td>Portuguesa, Contemporânea</td>\n",
       "      <td>Bairro do Avillez, Lisboa</td>\n",
       "      <td>Rua Nova da Trindade, 18, Chiado, Lisboa, Chia...</td>\n",
       "    </tr>\n",
       "  </tbody>\n",
       "</table>\n",
       "<p>5094 rows × 6 columns</p>\n",
       "</div>"
      ],
      "text/plain": [
       "                               Name Ratings No. of reviews  \\\n",
       "0                Carvoeiro de Palma     4.2            867   \n",
       "1     A Padaria Portuguesa - Camões     3.3            289   \n",
       "2             Eva Bar & Restaurante     3.8             45   \n",
       "3          Portugália Balcão Chiado     3.7             81   \n",
       "4             Escondidinho da Curva     3.2             66   \n",
       "...                             ...     ...            ...   \n",
       "5089                   Boteco da Fá     3.9             38   \n",
       "5090                   Trigo Latino     3.8             61   \n",
       "5091                     Café Belga     3.4             28   \n",
       "5092         Quiosque Portas do Sol     3.1             52   \n",
       "5093    Taberna - Bairro do Avillez     3.8             14   \n",
       "\n",
       "                                 Categories  \\\n",
       "0                                Portuguesa   \n",
       "1               Pastelaria, Padaria, Snacks   \n",
       "2     Contemporânea, Internacional, Bebidas   \n",
       "3                                Portuguesa   \n",
       "4                                Portuguesa   \n",
       "...                                     ...   \n",
       "5089                       Snacks, Petiscos   \n",
       "5090                   Fusão, Contemporânea   \n",
       "5091                 Belga, Snacks, Bebidas   \n",
       "5092          Pastelaria, Snacks, Snack bar   \n",
       "5093              Portuguesa, Contemporânea   \n",
       "\n",
       "                                Location  \\\n",
       "0        São Domingos de Benfica, Lisboa   \n",
       "1                         Chiado, Lisboa   \n",
       "2                         Chiado, Lisboa   \n",
       "3     Armazéns do Chiado, Chiado, Lisboa   \n",
       "4                         Chiado, Lisboa   \n",
       "...                                  ...   \n",
       "5089                      Alfama, Lisboa   \n",
       "5090                      Alfama, Lisboa   \n",
       "5091                    Mouraria, Lisboa   \n",
       "5092                      Alfama, Lisboa   \n",
       "5093           Bairro do Avillez, Lisboa   \n",
       "\n",
       "                                                Address  \n",
       "0     Rua Antonino e Sá, 9, São Domingos de Benfica,...  \n",
       "1              Praça Luís de Camões, 44, Chiado, Lisboa  \n",
       "2              Rua Garrett, 47, Chiado, Lisboa 1200-203  \n",
       "3     Armazéns do Chiado, Rua do Carmo, 2, Piso 6, C...  \n",
       "4              Rua do Ferragial, 22/22A, Chiado, Lisboa  \n",
       "...                                                 ...  \n",
       "5089                Rua do Vigário, 70E, Alfama, Lisboa  \n",
       "5090      Largo do Terreiro do Trigo, 1, Alfama, Lisboa  \n",
       "5091            Largo das Olarias, 37, Mouraria, Lisboa  \n",
       "5092            Largo das Portas do Sol, Alfama, Lisboa  \n",
       "5093  Rua Nova da Trindade, 18, Chiado, Lisboa, Chia...  \n",
       "\n",
       "[5094 rows x 6 columns]"
      ]
     },
     "execution_count": 53,
     "metadata": {},
     "output_type": "execute_result"
    }
   ],
   "source": [
    "data"
   ]
  }
 ],
 "metadata": {
  "interpreter": {
   "hash": "bb2397f6023f7180ab7c4bc0a2e7b37c07346fc62ee2578ea436a4f88c094a88"
  },
  "kernelspec": {
   "display_name": "Python 3",
   "language": "python",
   "name": "python3"
  },
  "language_info": {
   "codemirror_mode": {
    "name": "ipython",
    "version": 3
   },
   "file_extension": ".py",
   "mimetype": "text/x-python",
   "name": "python",
   "nbconvert_exporter": "python",
   "pygments_lexer": "ipython3",
   "version": "3.8.8"
  }
 },
 "nbformat": 4,
 "nbformat_minor": 4
}
